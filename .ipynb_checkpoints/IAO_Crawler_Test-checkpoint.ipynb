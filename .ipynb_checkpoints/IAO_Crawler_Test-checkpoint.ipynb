{
 "cells": [
  {
   "cell_type": "code",
   "execution_count": null,
   "metadata": {},
   "outputs": [],
   "source": [
    "pip install scrapy"
   ]
  },
  {
   "cell_type": "code",
   "execution_count": null,
   "metadata": {},
   "outputs": [],
   "source": [
    "pip install crochet"
   ]
  },
  {
   "cell_type": "code",
   "execution_count": null,
   "metadata": {},
   "outputs": [],
   "source": [
    "import scrapy\n",
    "from scrapy.crawler import CrawlerRunner\n",
    "from crochet import setup, wait_for\n",
    "\n",
    "#restarts reactor to avoid 'ReactorNotRestartable'\n",
    "setup()\n",
    "\n",
    "#custom spider to crawl IAO website\n",
    "class IAOCrawler(scrapy.Spider):\n",
    "    name = \"IAO Test-Crawler\"\n",
    "    start_urls = [\n",
    "        'https://blog.iao.fraunhofer.de/',\n",
    "    ]\n",
    "    \n",
    "    #prints titles of blog posts on main page\n",
    "    def parse(self, response):\n",
    "        containers = response.css('div.entry-container')\n",
    "        for entry in containers:\n",
    "            print(entry.xpath('.//header/h2/span/a/text()').get())\n",
    "        \n",
    "        \n",
    "        \n",
    "            \n",
    "\n",
    "@wait_for(10)\n",
    "def run():\n",
    "    crawler = CrawlerRunner()\n",
    "    return crawler.crawl(IAOCrawler)\n",
    "\n",
    "#runs the crawler\n",
    "run()"
   ]
  },
  {
   "cell_type": "code",
   "execution_count": null,
   "metadata": {},
   "outputs": [],
   "source": []
  },
  {
   "cell_type": "code",
   "execution_count": null,
   "metadata": {},
   "outputs": [],
   "source": []
  }
 ],
 "metadata": {
  "kernelspec": {
   "display_name": "Python 3",
   "language": "python",
   "name": "python3"
  },
  "language_info": {
   "codemirror_mode": {
    "name": "ipython",
    "version": 3
   },
   "file_extension": ".py",
   "mimetype": "text/x-python",
   "name": "python",
   "nbconvert_exporter": "python",
   "pygments_lexer": "ipython3",
   "version": "3.8.5"
  }
 },
 "nbformat": 4,
 "nbformat_minor": 4
}
